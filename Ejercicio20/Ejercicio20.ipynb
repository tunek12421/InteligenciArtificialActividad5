{
 "cells": [
  {
   "cell_type": "code",
   "execution_count": 1,
   "id": "95eada80",
   "metadata": {},
   "outputs": [
    {
     "name": "stdout",
     "output_type": "stream",
     "text": [
      "                        precision    recall  f1-score   support\n",
      "\n",
      "           alt.atheism       0.90      0.77      0.83       159\n",
      "soc.religion.christian       0.83      0.93      0.88       201\n",
      "\n",
      "              accuracy                           0.86       360\n",
      "             macro avg       0.87      0.85      0.85       360\n",
      "          weighted avg       0.86      0.86      0.86       360\n",
      "\n"
     ]
    }
   ],
   "source": [
    "import pandas as pd\n",
    "from sklearn.datasets import fetch_20newsgroups\n",
    "from sklearn.model_selection import train_test_split\n",
    "from sklearn.feature_extraction.text import TfidfVectorizer\n",
    "from sklearn.multiclass import OneVsRestClassifier\n",
    "from sklearn.linear_model import LogisticRegression\n",
    "from sklearn.metrics import classification_report\n",
    "# Cargar el dataset de 20 Newsgroups\n",
    "newsgroups = fetch_20newsgroups(subset='all', categories=['alt.atheism', \n",
    "'soc.religion.christian'], remove=('headers', 'footers', 'quotes'))\n",
    "X = newsgroups.data\n",
    "y = newsgroups.target\n",
    "# Dividir los datos\n",
    "X_train, X_test, y_train, y_test = train_test_split(X, y, test_size=0.2, random_state=42)\n",
    "# Vectorizar el texto\n",
    "\n",
    "vectorizer = TfidfVectorizer(stop_words='english')\n",
    "X_train_vec = vectorizer.fit_transform(X_train)\n",
    "\n",
    "X_test_vec = vectorizer.transform(X_test)\n",
    "# Ajustar un modelo de clasificación\n",
    "model = OneVsRestClassifier(LogisticRegression())\n",
    "model.fit(X_train_vec, y_train)\n",
    "# Predecir y evaluar\n",
    "y_pred = model.predict(X_test_vec)\n",
    "print(classification_report(y_test, y_pred, target_names=newsgroups.target_names))\n",
    "\n"
   ]
  }
 ],
 "metadata": {
  "kernelspec": {
   "display_name": ".venv",
   "language": "python",
   "name": "python3"
  },
  "language_info": {
   "codemirror_mode": {
    "name": "ipython",
    "version": 3
   },
   "file_extension": ".py",
   "mimetype": "text/x-python",
   "name": "python",
   "nbconvert_exporter": "python",
   "pygments_lexer": "ipython3",
   "version": "3.12.3"
  }
 },
 "nbformat": 4,
 "nbformat_minor": 5
}
